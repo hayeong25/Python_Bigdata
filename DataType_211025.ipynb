{
 "cells": [
  {
   "cell_type": "code",
   "execution_count": 1,
   "id": "61c5d149",
   "metadata": {},
   "outputs": [],
   "source": [
    "# 숫자형(Number)"
   ]
  },
  {
   "cell_type": "code",
   "execution_count": 2,
   "id": "5556a845",
   "metadata": {},
   "outputs": [
    {
     "data": {
      "text/plain": [
       "-0.4000000000000057"
      ]
     },
     "execution_count": 2,
     "metadata": {},
     "output_type": "execute_result"
    }
   ],
   "source": [
    "# 정수형, 실수형\n",
    "a = 123\n",
    "b = -123.4\n",
    "a + b"
   ]
  },
  {
   "cell_type": "code",
   "execution_count": 3,
   "id": "0625b823",
   "metadata": {},
   "outputs": [
    {
     "data": {
      "text/plain": [
       "48"
      ]
     },
     "execution_count": 3,
     "metadata": {},
     "output_type": "execute_result"
    }
   ],
   "source": [
    "# 8진수\n",
    "c = 0o34\n",
    "d = 0o24\n",
    "c + d"
   ]
  },
  {
   "cell_type": "code",
   "execution_count": 4,
   "id": "dd0d1cd1",
   "metadata": {},
   "outputs": [
    {
     "data": {
      "text/plain": [
       "297"
      ]
     },
     "execution_count": 4,
     "metadata": {},
     "output_type": "execute_result"
    }
   ],
   "source": [
    "# 16진수\n",
    "e = 0x2A\n",
    "f = 0xFF\n",
    "e + f"
   ]
  },
  {
   "cell_type": "code",
   "execution_count": 5,
   "id": "aa23f626",
   "metadata": {},
   "outputs": [],
   "source": [
    "# 문자형(String)"
   ]
  },
  {
   "cell_type": "code",
   "execution_count": 6,
   "id": "1b875b3a",
   "metadata": {},
   "outputs": [
    {
     "name": "stdout",
     "output_type": "stream",
     "text": [
      "WiseInCompany\n",
      "WiseInCompany\n",
      "\"WiseInCompany\"\n",
      "123\n",
      "<class 'str'>\n"
     ]
    }
   ],
   "source": [
    "# 문자열\n",
    "s = 'WiseInCompany'\n",
    "s1 = \"WiseInCompany\"\n",
    "s2 = '\"WiseInCompany\"'\n",
    "s3 = \"123\"\n",
    "print(s)\n",
    "print(s1)\n",
    "print(s2)\n",
    "print(s3)\n",
    "print(type(s3))"
   ]
  },
  {
   "cell_type": "code",
   "execution_count": 7,
   "id": "b448ad2c",
   "metadata": {},
   "outputs": [
    {
     "name": "stdout",
     "output_type": "stream",
     "text": [
      "WiseInCompany\n",
      "WiseInCompanyWiseInCompany\n"
     ]
    }
   ],
   "source": [
    "# 문자열 연산하기\n",
    "a = \"Wise\"\n",
    "b = \"InCompany\"\n",
    "print(a+b)\n",
    "a = \"WiseInCompany\"\n",
    "print(a*2)"
   ]
  },
  {
   "cell_type": "code",
   "execution_count": 8,
   "id": "d0c4d453",
   "metadata": {},
   "outputs": [
    {
     "name": "stdout",
     "output_type": "stream",
     "text": [
      "e\n",
      "a\n",
      "Wise In Company\n",
      " In Company\n",
      "Wise\n"
     ]
    }
   ],
   "source": [
    "# 문자열 인덱싱 및 슬라이싱\n",
    "a = \"Wise In Company\"\n",
    "print(a[3])\n",
    "print(a[-3])\n",
    "print(a[0:15])\n",
    "print(a[4:])\n",
    "print(a[0:4])"
   ]
  },
  {
   "cell_type": "code",
   "execution_count": 9,
   "id": "1333b86c",
   "metadata": {},
   "outputs": [],
   "source": [
    "# 리스트(List)"
   ]
  },
  {
   "cell_type": "code",
   "execution_count": 11,
   "id": "1e2c88bd",
   "metadata": {},
   "outputs": [
    {
     "name": "stdout",
     "output_type": "stream",
     "text": [
      "[1, 2, 3, 4, 5]\n",
      "1\n",
      "5\n",
      "[1, 2, 3, 4, 5]\n",
      "[1, 2, 3, 4, 5]\n",
      "[3, 4, 5]\n"
     ]
    }
   ],
   "source": [
    "a = [1, 2, 3, 4, 5]\n",
    "print(a)\n",
    "\n",
    "# 리스트 인덱싱\n",
    "a = [1, 2, 3, 4, 5]\n",
    "print(a[0])\n",
    "print(a[-1])\n",
    "\n",
    "# 리스트 슬라이싱\n",
    "a = [1, 2, 3, 4, 5]\n",
    "print(a[0:5])\n",
    "print(a[:5])\n",
    "print(a[2:])"
   ]
  },
  {
   "cell_type": "code",
   "execution_count": 12,
   "id": "bf44f552",
   "metadata": {},
   "outputs": [
    {
     "name": "stdout",
     "output_type": "stream",
     "text": [
      "[0, 3, 4, 5, 6]\n"
     ]
    }
   ],
   "source": [
    "# 리스트 요소 추가/수정/삭제\n",
    "a = [1, 2, 3, 4, 5]\n",
    "a.append(6)\n",
    "a[0] = 0\n",
    "del a[1]\n",
    "print(a)"
   ]
  },
  {
   "cell_type": "code",
   "execution_count": 13,
   "id": "028ead96",
   "metadata": {},
   "outputs": [
    {
     "name": "stdout",
     "output_type": "stream",
     "text": [
      "[1, 2, 3, 4, 5]\n",
      "[1, 2, 1, 2, 1, 2]\n"
     ]
    }
   ],
   "source": [
    "# 리스트 병합 및 반복\n",
    "a = [1, 2]\n",
    "b = [3, 4, 5]\n",
    "c = a + b\n",
    "print(c)\n",
    "d = a * 3\n",
    "print(d)"
   ]
  },
  {
   "cell_type": "code",
   "execution_count": 14,
   "id": "8a757180",
   "metadata": {},
   "outputs": [],
   "source": [
    "# 튜플(Tuple)\n",
    "# 리스트는 값 생성, 삭제, 수정이 가능하지만 튜플은 값 변경 불가능"
   ]
  },
  {
   "cell_type": "code",
   "execution_count": 15,
   "id": "c726e966",
   "metadata": {},
   "outputs": [
    {
     "name": "stdout",
     "output_type": "stream",
     "text": [
      "2\n",
      "(1, 2, 3)\n"
     ]
    }
   ],
   "source": [
    "# 튜플 인덱싱 및 슬라이싱\n",
    "t = (1, 2, 3, 4, 5)\n",
    "print(t[1])\n",
    "print(t[0:3])"
   ]
  },
  {
   "cell_type": "code",
   "execution_count": 16,
   "id": "2a9ac116",
   "metadata": {},
   "outputs": [
    {
     "name": "stdout",
     "output_type": "stream",
     "text": [
      "(1, 2, 3, 4, 5)\n",
      "(1, 2, 1, 2, 1, 2)\n"
     ]
    }
   ],
   "source": [
    "a = (1, 2)\n",
    "b = (3, 4, 5)\n",
    "c = a + b\n",
    "print(c)\n",
    "d = a * 3\n",
    "print(d)"
   ]
  },
  {
   "cell_type": "code",
   "execution_count": 17,
   "id": "fb4f5655",
   "metadata": {},
   "outputs": [
    {
     "name": "stdout",
     "output_type": "stream",
     "text": [
      "('David', 'Kim')\n",
      "Kim ,  David\n"
     ]
    }
   ],
   "source": [
    "# 튜플 변수 할당 (한 번에 두 변수 값 할당 가능)\n",
    "name = (\"David\", \"Kim\")\n",
    "print(name)\n",
    "firstname, lastname = (\"David\", \"Kim\")\n",
    "print(lastname, \", \", firstname)"
   ]
  },
  {
   "cell_type": "code",
   "execution_count": 18,
   "id": "76fee5fa",
   "metadata": {},
   "outputs": [],
   "source": [
    "# 집합(Set)"
   ]
  },
  {
   "cell_type": "code",
   "execution_count": 19,
   "id": "a5247ec8",
   "metadata": {},
   "outputs": [
    {
     "name": "stdout",
     "output_type": "stream",
     "text": [
      "{1, 2, 3}\n"
     ]
    }
   ],
   "source": [
    "set = {1, 1, 2, 3}\n",
    "print(set)"
   ]
  },
  {
   "cell_type": "code",
   "execution_count": 20,
   "id": "b01a20d3",
   "metadata": {},
   "outputs": [
    {
     "data": {
      "text/plain": [
       "{1, 2, 3, 4}"
      ]
     },
     "execution_count": 20,
     "metadata": {},
     "output_type": "execute_result"
    }
   ],
   "source": [
    "# 집합 요소 추가할 때는 add (리스트는 append)\n",
    "set = {1, 1, 2, 3}\n",
    "set.add(4)\n",
    "set"
   ]
  },
  {
   "cell_type": "code",
   "execution_count": 21,
   "id": "fd836372",
   "metadata": {},
   "outputs": [
    {
     "data": {
      "text/plain": [
       "{1, 2, 3, 4, 5, 6}"
      ]
     },
     "execution_count": 21,
     "metadata": {},
     "output_type": "execute_result"
    }
   ],
   "source": [
    "# 두 개 이상의 요소를 추가할 때는 add 대신 update 사용\n",
    "set = {1, 1, 2, 3}\n",
    "set.update({4, 5, 6})\n",
    "set"
   ]
  },
  {
   "cell_type": "code",
   "execution_count": 24,
   "id": "034748a7",
   "metadata": {},
   "outputs": [
    {
     "data": {
      "text/plain": [
       "{2, 3, 4, 5, 6}"
      ]
     },
     "execution_count": 24,
     "metadata": {},
     "output_type": "execute_result"
    }
   ],
   "source": [
    "# 하나의 요소 삭제 시에는 remove\n",
    "set = {1, 1, 2, 3}\n",
    "set.update({4, 5, 6})\n",
    "set.remove(1)\n",
    "set"
   ]
  },
  {
   "cell_type": "code",
   "execution_count": 25,
   "id": "b48f9eb7",
   "metadata": {},
   "outputs": [
    {
     "data": {
      "text/plain": [
       "set()"
      ]
     },
     "execution_count": 25,
     "metadata": {},
     "output_type": "execute_result"
    }
   ],
   "source": [
    "# 모든 요소 제거할 때는 clear\n",
    "set = {1, 1, 2, 3}\n",
    "set.update({4, 5, 6})\n",
    "set.clear()\n",
    "set"
   ]
  },
  {
   "cell_type": "code",
   "execution_count": 26,
   "id": "7ddd8652",
   "metadata": {},
   "outputs": [
    {
     "name": "stdout",
     "output_type": "stream",
     "text": [
      "{1, 3}\n",
      "{1, 2, 3, 4}\n",
      "{2}\n"
     ]
    }
   ],
   "source": [
    "# 집합 연산\n",
    "a = {1, 2, 3}\n",
    "b = {1, 3, 4}\n",
    "\n",
    "# 교집합\n",
    "c = a & b\n",
    "print(c)\n",
    "\n",
    "# 합집합\n",
    "d = a | b\n",
    "print(d)\n",
    "\n",
    "# 차집합\n",
    "e = a - b\n",
    "print(e)"
   ]
  },
  {
   "cell_type": "code",
   "execution_count": 27,
   "id": "429e50ad",
   "metadata": {},
   "outputs": [],
   "source": [
    "# 사전(Dictionary)"
   ]
  },
  {
   "cell_type": "code",
   "execution_count": 28,
   "id": "0170b16b",
   "metadata": {},
   "outputs": [
    {
     "data": {
      "text/plain": [
       "90"
      ]
     },
     "execution_count": 28,
     "metadata": {},
     "output_type": "execute_result"
    }
   ],
   "source": [
    "# 인덱스가 아니라 키(key)를 이용\n",
    "test = {\"Kim\":90, \"Jeong\":80, \"Park\":75}\n",
    "test[\"Kim\"]"
   ]
  },
  {
   "cell_type": "code",
   "execution_count": 29,
   "id": "5d19a8c4",
   "metadata": {},
   "outputs": [
    {
     "name": "stdout",
     "output_type": "stream",
     "text": [
      "{'Kim': 90, 'Jeong': 85, 'Cho': 95}\n"
     ]
    }
   ],
   "source": [
    "# 사전 추가/수정/삭제\n",
    "test = {\"Kim\":90, \"Jeong\":80, \"Park\":75}\n",
    "test[\"Jeong\"] = 85\n",
    "test[\"Cho\"] = 95\n",
    "del test[\"Park\"]\n",
    "print(test)"
   ]
  },
  {
   "cell_type": "code",
   "execution_count": 30,
   "id": "16b680ea",
   "metadata": {},
   "outputs": [
    {
     "name": "stdout",
     "output_type": "stream",
     "text": [
      "dict_keys(['Kim', 'Jeong', 'Park'])\n",
      "dict_values([90, 80, 75])\n"
     ]
    }
   ],
   "source": [
    "# 키 또는 값 가져오기\n",
    "test = {\"Kim\":90, \"Jeong\":80, \"Park\":75}\n",
    "print(test.keys())\n",
    "print(test.values())"
   ]
  }
 ],
 "metadata": {
  "kernelspec": {
   "display_name": "Python 3",
   "language": "python",
   "name": "python3"
  },
  "language_info": {
   "codemirror_mode": {
    "name": "ipython",
    "version": 3
   },
   "file_extension": ".py",
   "mimetype": "text/x-python",
   "name": "python",
   "nbconvert_exporter": "python",
   "pygments_lexer": "ipython3",
   "version": "3.8.8"
  }
 },
 "nbformat": 4,
 "nbformat_minor": 5
}
