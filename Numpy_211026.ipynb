{
 "cells": [
  {
   "cell_type": "code",
   "execution_count": 2,
   "id": "918d3977",
   "metadata": {},
   "outputs": [],
   "source": [
    "# numpy(numerical python)\n",
    "# 다차원 배열 처리. 파이썬 데이터 분석 패키지\n",
    "# 배열 차원 rank, 배열 크기 shape\n",
    "# import numpy as np"
   ]
  },
  {
   "cell_type": "code",
   "execution_count": 3,
   "id": "9ef3a5a3",
   "metadata": {},
   "outputs": [],
   "source": [
    "# 주요 함수\n",
    "# numpy.abs(array)\n",
    "# numpy.sqrt(array) : 제곱근(루트)\n",
    "# numpy.square(array) : 제곱\n",
    "# numpy.exp(array) : 지수\n",
    "# numpy.Log(array)\n",
    "# numpy.add(array1, array2) : 두 배열 덧셈\n",
    "# numpy.subtract(array1, array2) : 배열1 - 배열2\n",
    "# numpy.multiply(array1, array2) : 배열1 * 배열2"
   ]
  },
  {
   "cell_type": "code",
   "execution_count": 4,
   "id": "23c991b1",
   "metadata": {},
   "outputs": [
    {
     "name": "stdout",
     "output_type": "stream",
     "text": [
      "[1 2 3 4]\n"
     ]
    }
   ],
   "source": [
    "# numpy 배열 기본\n",
    "import numpy as np\n",
    "v1 = np.array([1, 2, 3, 4]) # 괄호 안에는 리스트 형태로 데이터 입력\n",
    "print(v1)"
   ]
  },
  {
   "cell_type": "code",
   "execution_count": 6,
   "id": "a3c4ca78",
   "metadata": {},
   "outputs": [
    {
     "name": "stdout",
     "output_type": "stream",
     "text": [
      "[0 1 2 3 4]\n",
      "[1 3 5 7 9]\n",
      "[3.5 5.5 7.5 9.5]\n",
      "[ 1  9 25 49 81]\n",
      "[  1  27 125 343 729]\n"
     ]
    }
   ],
   "source": [
    "# np.arange(시작 값, 끝 값, 간격)\n",
    "# np.arange(끝 값)\n",
    "# 연속되거나 일정한 규칙을 가진 숫자\n",
    "v1 = np.arange(5)\n",
    "print(v1)\n",
    "\n",
    "# 연속되거나 일정한 규칙을 가진 숫자, 데이터 형태 지정\n",
    "v2 = np.arange(1, 10, 2, dtype=int)\n",
    "v3 = np.arange(3.5, 10.5, 2, dtype=float)\n",
    "print(v2)\n",
    "print(v3)\n",
    "\n",
    "# 제곱값 생성\n",
    "v4 = np.arange(1, 10, 2)**2\n",
    "print(v4)\n",
    "\n",
    "# 세제곱값 생성\n",
    "v5 = np.arange(1, 10, 2)**3\n",
    "print(v5)"
   ]
  },
  {
   "cell_type": "code",
   "execution_count": 8,
   "id": "0c9775ca",
   "metadata": {},
   "outputs": [
    {
     "name": "stdout",
     "output_type": "stream",
     "text": [
      "[1 2 3 4 5]\n",
      "[1 2 3 4 5]\n"
     ]
    }
   ],
   "source": [
    "# array는 입력받은 배열 그대로 numpy.ndarray를 만들고 arange는 범위 안의 요소로 numpy.ndarray를 만듦\n",
    "array1 = np.array([1,2,3,4,5])\n",
    "array2 = np.arange(1,6)\n",
    "print(array1)\n",
    "print(array2)"
   ]
  },
  {
   "cell_type": "code",
   "execution_count": 10,
   "id": "50479d5c",
   "metadata": {},
   "outputs": [
    {
     "name": "stdout",
     "output_type": "stream",
     "text": [
      "[ 0  1  2  3  4  5  6  7  8  9 10 11]\n",
      "[[ 0  1  2  3  4  5]\n",
      " [ 6  7  8  9 10 11]]\n",
      "[[ 0  2  4  6  8 10]\n",
      " [ 1  3  5  7  9 11]]\n"
     ]
    }
   ],
   "source": [
    "# 행렬 만들기\n",
    "# np.reshape(차원, 행, 열, oreder='C' 또는 'F') C는 행 순서 F는 열 순서\n",
    "v1 = np.arange(12)\n",
    "print(v1)\n",
    "v2 = v1.reshape(2, 6)\n",
    "print(v2)\n",
    "v3 = v1.reshape(2, 6, order='F')\n",
    "print(v3)"
   ]
  },
  {
   "cell_type": "code",
   "execution_count": 11,
   "id": "b773f177",
   "metadata": {},
   "outputs": [
    {
     "name": "stdout",
     "output_type": "stream",
     "text": [
      "[[2 4]\n",
      " [6 8]]\n",
      "[[0 0]\n",
      " [0 0]]\n",
      "[[ 1  4]\n",
      " [ 9 16]]\n",
      "[[ 7 10]\n",
      " [15 22]]\n"
     ]
    }
   ],
   "source": [
    "# 행렬 계산\n",
    "v1 = np.arange(1, 5).reshape(2, 2)\n",
    "\n",
    "# v1 = [[1, 2]\n",
    "#      [3, 4]]\n",
    "\n",
    "print(np.add(v1, v1)) # 덧셈\n",
    "print(np.subtract(v1, v1)) # 뺄셈\n",
    "print(np.multiply(v1, v1)) # 곱셈\n",
    "print(np.dot(v1, v1)) # 행렬 연산"
   ]
  },
  {
   "cell_type": "code",
   "execution_count": 12,
   "id": "adc3c1d3",
   "metadata": {},
   "outputs": [
    {
     "name": "stdout",
     "output_type": "stream",
     "text": [
      "[ 0  1  2  3  4  5  6  7  8  9 10 11]\n",
      "[[[ 0  6]\n",
      "  [ 2  8]\n",
      "  [ 4 10]]\n",
      "\n",
      " [[ 1  7]\n",
      "  [ 3  9]\n",
      "  [ 5 11]]]\n"
     ]
    }
   ],
   "source": [
    "# 다차원 행렬 만들기\n",
    "v1 = np.arange(12)\n",
    "print(v1)\n",
    "v2 = v1.reshape(2, 3, 2, order='F')\n",
    "print(v2)"
   ]
  },
  {
   "cell_type": "code",
   "execution_count": 14,
   "id": "546f7713",
   "metadata": {},
   "outputs": [
    {
     "name": "stdout",
     "output_type": "stream",
     "text": [
      "[3.5 5.5 7.5 9.5]\n",
      "[[1 2]\n",
      " [3 4]]\n",
      "9.5\n",
      "1\n",
      "float64\n",
      "(2, 2)\n"
     ]
    }
   ],
   "source": [
    "# 다차원 배열에서 요소의 최대값 및 최소값 반환\n",
    "v3 = np.arange(3.5, 10.5, 2, dtype=float)\n",
    "print(v3)\n",
    "v4 = np.arange(1, 5).reshape(2, 2)\n",
    "print(v4)\n",
    "print(np.amax(v3)) # 최대값 확인\n",
    "print(np.amin(v4)) # 최소값 확인\n",
    "print(v3.dtype) # 데이터 타입 확인\n",
    "print(v4.shape) # 행, 열, 차원 확인"
   ]
  }
 ],
 "metadata": {
  "kernelspec": {
   "display_name": "Python 3",
   "language": "python",
   "name": "python3"
  },
  "language_info": {
   "codemirror_mode": {
    "name": "ipython",
    "version": 3
   },
   "file_extension": ".py",
   "mimetype": "text/x-python",
   "name": "python",
   "nbconvert_exporter": "python",
   "pygments_lexer": "ipython3",
   "version": "3.8.8"
  }
 },
 "nbformat": 4,
 "nbformat_minor": 5
}
